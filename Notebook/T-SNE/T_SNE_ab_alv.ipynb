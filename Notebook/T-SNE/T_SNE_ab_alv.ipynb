{
  "nbformat": 4,
  "nbformat_minor": 0,
  "metadata": {
    "colab": {
      "name": "T-SNE ab/alv",
      "provenance": [],
      "collapsed_sections": []
    },
    "kernelspec": {
      "name": "python3",
      "display_name": "Python 3"
    },
    "language_info": {
      "name": "python"
    }
  },
  "cells": [
    {
      "cell_type": "code",
      "execution_count": 1,
      "metadata": {
        "id": "vcBIMY0MRAKr"
      },
      "outputs": [],
      "source": [
        "from torchvision import transforms as T\n",
        "import matplotlib.pyplot as plt\n",
        "from torchvision.datasets import ImageFolder\n",
        "import tensorflow as tf\n",
        "import torch\n",
        "import torchvision\n",
        "import pathlib\n",
        "import plotly.express as px\n",
        "import keras\n",
        "from numpy import reshape\n",
        "import seaborn as sns\n",
        "import pandas as pd  \n",
        "from google.colab import drive\n",
        "from sklearn.manifold import TSNE"
      ]
    },
    {
      "cell_type": "code",
      "source": [
        "drive.mount('/content/drive')"
      ],
      "metadata": {
        "colab": {
          "base_uri": "https://localhost:8080/"
        },
        "id": "SnoNGjnvRFNm",
        "outputId": "31d0cb07-9bf3-4db6-cb53-a10b2f5475d0"
      },
      "execution_count": 2,
      "outputs": [
        {
          "output_type": "stream",
          "name": "stdout",
          "text": [
            "Drive already mounted at /content/drive; to attempt to forcibly remount, call drive.mount(\"/content/drive\", force_remount=True).\n"
          ]
        }
      ]
    },
    {
      "cell_type": "code",
      "source": [
        "data_dir = \"/content/drive/MyDrive/COURS/Semestre_6/TER/data\"\n",
        "data_dir = pathlib.Path(data_dir)\n",
        "image_count = len(list(data_dir.glob('*/*.png')))\n",
        "print(image_count)\n",
        "print(data_dir)"
      ],
      "metadata": {
        "colab": {
          "base_uri": "https://localhost:8080/"
        },
        "id": "nCy3ax8eRG3t",
        "outputId": "65d7fdfe-ab9d-479d-e1c9-0294b3efd929"
      },
      "execution_count": 3,
      "outputs": [
        {
          "output_type": "stream",
          "name": "stdout",
          "text": [
            "2591\n",
            "/content/drive/MyDrive/COURS/Semestre_6/TER/data\n"
          ]
        }
      ]
    },
    {
      "cell_type": "code",
      "source": [
        "batch_size=image_count\n",
        "img_height = 24\n",
        "img_width = 25"
      ],
      "metadata": {
        "id": "dXW4zy0QRKem"
      },
      "execution_count": 4,
      "outputs": []
    },
    {
      "cell_type": "code",
      "source": [
        "train_ds = tf.keras.utils.image_dataset_from_directory(\n",
        "  data_dir,\n",
        "  seed=123,\n",
        "  image_size=(img_height, img_width),\n",
        "  color_mode = \"grayscale\",\n",
        "  batch_size=batch_size)\n",
        "\n",
        "for image_batch, labels_batch in train_ds:\n",
        "  print(image_batch.shape)\n",
        "  print(labels_batch.shape)\n",
        "  x_data=reshape(image_batch, [batch_size,img_height*img_width])\n",
        "  y_data=labels_batch\n",
        "  print(x_data.shape)\n",
        "  print(y_data.shape)\n",
        "  break"
      ],
      "metadata": {
        "colab": {
          "base_uri": "https://localhost:8080/"
        },
        "id": "K-EJnCMKRL2a",
        "outputId": "21482e7f-f745-4d1f-ce9b-5d4f45208810"
      },
      "execution_count": null,
      "outputs": [
        {
          "output_type": "stream",
          "name": "stdout",
          "text": [
            "Found 2591 files belonging to 2 classes.\n"
          ]
        }
      ]
    },
    {
      "cell_type": "code",
      "source": [
        "tsne = TSNE(n_components=2, verbose=1, random_state=123)\n",
        "z = tsne.fit_transform(x_data)\n",
        "df = pd.DataFrame()\n",
        "df[\"y\"] = y_data\n",
        "df[\"ALVEOLE\"] = z[:,0]\n",
        "df[\"ABEILLE\"] = z[:,1]\n",
        "\n",
        "sns.scatterplot(x=\"ALVEOLE\", y=\"ABEILLE\", hue=df.y.tolist(),\n",
        "                palette=sns.color_palette(\"hls\", 2),\n",
        "                data=df).set(title=\"Abeilles/alvéoles\")"
      ],
      "metadata": {
        "id": "9MQRFvm0RNZq"
      },
      "execution_count": null,
      "outputs": []
    },
    {
      "cell_type": "code",
      "source": [
        "#df = pd.DataFrame(componenents)\n",
        "df['Index']=df.index\n",
        "\n",
        "fig = px.scatter(df, x=\"ALVEOLE\", y=\"ABEILLE\",color='y',hover_data=[\"Index\"])\n",
        "\n",
        "fig.show()"
      ],
      "metadata": {
        "id": "v4Uj4KG3RO8K"
      },
      "execution_count": null,
      "outputs": []
    }
  ]
}